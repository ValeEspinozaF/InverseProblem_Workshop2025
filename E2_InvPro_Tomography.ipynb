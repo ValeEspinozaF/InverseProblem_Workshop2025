{
 "cells": [
  {
   "cell_type": "markdown",
   "metadata": {},
   "source": [
    "# Statistics and Inverse Problems 2025\n",
    "## Exercise 2 - Linear Tomography\n",
    "\n",
    "### Author(s), contact(s), and dates:\n",
    "- Author: Valentina Espinoza Fernández (University of Copenhagen), Klaus Mosegaard (Niels Bohr Institute)\n",
    "- Email:  vf@ign.ku.dk\n",
    "- Date:   9th of January 2025"
   ]
  },
  {
   "cell_type": "markdown",
   "metadata": {},
   "source": [
    "# Tabel of contents\n",
    "* [Problem setup](#problem-setup)\n",
    "* [The Forward Problem](#forward-problem)\n",
    "* [The Inverse Problem](#inverse-problem)\n",
    "* [MonteCarlo Simulation](#monte-carlo)"
   ]
  },
  {
   "cell_type": "markdown",
   "metadata": {},
   "source": [
    "In this notebook we will look into the anomalies induced by an heterogenous Earth, particularly in the time-arrival of seismic waves. For this exercise we are given knowledge of the subsurface wave propagation velocity, but not the rays time-arrival anomalies, which would normally constitute our observations (data). We will pose the forward problem to simulate the arrival delays on 10 seismographs, and then feed back this data to reconstruct the velocity grid in the subsurface. "
   ]
  },
  {
   "cell_type": "code",
   "execution_count": 200,
   "metadata": {},
   "outputs": [],
   "source": [
    "# Public dependencies\n",
    "import numpy as np\n",
    "import matplotlib.pyplot as plt\n",
    "\n",
    "# Local dependencies - YOUR COMPUTER\n",
    "from DEPENDENCIES.e2_dependencies import add_colorbar, plot_grid, plot_path_arrows, plot_stations, set_figure\n",
    "from DEPENDENCIES.inverse_dependencies import find_optimal_epsilon, lsqr_solution"
   ]
  },
  {
   "cell_type": "markdown",
   "metadata": {},
   "source": [
    "## Problem Setup <a  class=\"anchor\" id=\"problem-setup\"></a>"
   ]
  },
  {
   "cell_type": "markdown",
   "metadata": {},
   "source": [
    "We shall analyze first-arrivals of seismic waves from two earthquakes, recorded by 10 seismographs at the earth's surface. Rays hit the seismographs with an angle of\n",
    "incidence of 45 degrees; rays from earthquake 1 come from the left, and rays from earthquake 2 come from right."
   ]
  },
  {
   "cell_type": "code",
   "execution_count": null,
   "metadata": {},
   "outputs": [],
   "source": [
    "# Plot ray paths and stations\n",
    "fig, ax = plt.subplots(figsize=(4,4))\n",
    "plot_path_arrows(ax, color='grey')       # Plot the ray paths\n",
    "plot_stations(ax)                        # Plot the seismograph stations\n",
    "set_figure(ax)                           # Polish the profile figure"
   ]
  },
  {
   "cell_type": "markdown",
   "metadata": {},
   "source": [
    " We will consider a 13 x 11 km vertical cross section of the subsurface, located immediately below 10 seismographs. Inside this cross section, the wave propagation velocity is 5000 m/s (`v_out`), except in a rectangular zone, where the velocity is 5200 m/s (`v_rect`). The presence of this zone introduces an arrival-time anomaly (a deviation of the arrival time from a situation where the entire area is homogeneous)."
   ]
  },
  {
   "cell_type": "code",
   "execution_count": 202,
   "metadata": {},
   "outputs": [],
   "source": [
    "# Some model parameters\n",
    "\n",
    "v_out = 5000         # seismic wave propagation velocity outside the rectangle [m/s]\n",
    "v_rect = 5200        # seismic wave propagation velocity inside the rectangle [m/s]\n",
    "n_seis = 10          # number of seismograms/rays per earthquake"
   ]
  },
  {
   "cell_type": "code",
   "execution_count": 203,
   "metadata": {},
   "outputs": [],
   "source": [
    "# Velocity matrix setup\n",
    "vel_grid = np.ones((11, 13))      # Create a matrix of size 11x13 of ones\n",
    "vel_grid = vel_grid * v_out       # Set the value of all grid cells to 5000 [m/s]\n",
    "vel_grid[1:9, 4:7] = v_rect       # Modify the values between depth 1 to 9 (rows 1-8) and distance 4 to 6 (columns 4-5) to 5200 [m/s]\n",
    "\n",
    "# Slowness matrix setup \n",
    "s_anom_grid = vel_grid**(-1) - 1/v_out      # Set the value of all grid cells to the slowness anomaly based on the corresponding cell in the velocity grid"
   ]
  },
  {
   "cell_type": "code",
   "execution_count": null,
   "metadata": {},
   "outputs": [],
   "source": [
    "# Plot problem\n",
    "\n",
    "fig, (ax1, ax2) = plt.subplots(1, 2, figsize=(13,6), gridspec_kw={\"wspace\":0.5})\n",
    "\n",
    "# Plot the velocity grid\n",
    "im = ax1.imshow(vel_grid, extent=(0, 13, 11, 0), cmap=\"Greys\")    # Plot velocity matrix grid\n",
    "add_colorbar(fig, ax1, label='wave velocity [m/s]', image=im)     # Add the grid's colorbar\n",
    "plot_path_arrows(ax1, color='grey')                               # Plot the ray paths\n",
    "plot_grid(ax1, alpha=0.3)                                         # Plot grid lines\n",
    "plot_stations(ax1)                                                # Plot the seismograph stations\n",
    "set_figure(ax1) \n",
    "\n",
    "# Plot the velocity anomaly grid\n",
    "im = ax2.imshow(s_anom_grid, extent=(0, 13, 11, 0))               # Plot velocity matrix grid\n",
    "add_colorbar(fig, ax2, label='slowness anomaly [s/m]', image=im)  # Add the grid's colorbar\n",
    "plot_path_arrows(ax2, color='grey')                               # Plot the ray paths\n",
    "plot_grid(ax2, alpha=0.3)                                         # Plot grid lines\n",
    "plot_stations(ax2)                                                # Plot the seismograph stations\n",
    "set_figure(ax2) "
   ]
  },
  {
   "cell_type": "markdown",
   "metadata": {},
   "source": [
    "The equation for the time arrival anomaly $t_\\gamma$ for a wave propagating along a ray $\\gamma$, is given by:\n",
    "\n",
    "$$ t_\\gamma = \\int_{\\gamma} s(u) du$$\n",
    "\n",
    "where $s(u)$ is the slowness anomaly along the ray, and $u$ is a parameter determining the point we consider on the ray."
   ]
  },
  {
   "cell_type": "markdown",
   "metadata": {},
   "source": [
    "By discretizing into grid cells, the equation can be written as:\n",
    "\n",
    "$$ t_\\gamma = \\sum_{i=1}^{n_{model}} s(u_i) \\cdot d_{cell}$$\n",
    "\n",
    "where $n_{model}$ in the number of model parameters and $d_{cell}$ is the distance traveled within each cell. "
   ]
  },
  {
   "cell_type": "code",
   "execution_count": 205,
   "metadata": {},
   "outputs": [],
   "source": [
    "n_model = 13 * 11                     # number of model parameters\n",
    "distance_cell = np.sqrt(2) * 1000     # distance [m] traveled by a ray in each cell, here the diagonal of a 1x1 km cell"
   ]
  },
  {
   "cell_type": "markdown",
   "metadata": {},
   "source": [
    "With these considerations, what can you say about the following questions:\n",
    "\n",
    "1. Is the problem unique?\n",
    "2. Is the problem linear?"
   ]
  },
  {
   "cell_type": "markdown",
   "metadata": {},
   "source": [
    "## The Forward Problem <a  class=\"anchor\" id=\"forward-problem\"></a>"
   ]
  },
  {
   "cell_type": "markdown",
   "metadata": {},
   "source": [
    "Then, $\\mathbf{d}$ must be a vector of 20 elements, one for each arrival time anomaly of the 20 rays (ten seismographs, two earthquakes). $\\mathbf{m}$ must be a vector of 143 elements with the velocity anomaly for each cell of the grid. Matrix $\\mathbf{G}$ must make the conversion between both vectors, and therefore will have a 143 x 20 size."
   ]
  },
  {
   "cell_type": "code",
   "execution_count": 206,
   "metadata": {},
   "outputs": [],
   "source": [
    "# Construct the model parameters m vector\n",
    "m_true = s_anom_grid.flatten()                # Flatten the matrix 11x13 to a 143x vector [you can check the shape of variable with e.g. np.shape()]"
   ]
  },
  {
   "cell_type": "code",
   "execution_count": 207,
   "metadata": {},
   "outputs": [],
   "source": [
    "# Function to assign distance_cell values to the cells through which a given ray (i_ray) passes, other cell remain at zero\n",
    "\n",
    "def ray_path(i_ray):                        \n",
    "    \n",
    "    path_vector = np.zeros(n_model)\n",
    "    \n",
    "    if i_ray < 10:\n",
    "        n_ray = i_ray + 2\n",
    "    \n",
    "        for i in range(n_ray):\n",
    "            path_vector[i_ray + 1 + i*12] = distance_cell\n",
    "                \n",
    "    else:\n",
    "        n_ray = 21 - i_ray\n",
    "        for i in range(n_ray):\n",
    "            path_vector[i_ray - 8 + i*14] = distance_cell\n",
    "        \n",
    "    return path_vector"
   ]
  },
  {
   "cell_type": "code",
   "execution_count": 208,
   "metadata": {},
   "outputs": [],
   "source": [
    "G = np.zeros((n_seis*2, n_model))    # Create a matrix of size 20x143 of zeros\n",
    "\n",
    "for i in range(n_seis*2):                # Process all 20 ray paths\n",
    "    G[i] = ray_path(i)"
   ]
  },
  {
   "cell_type": "markdown",
   "metadata": {},
   "source": [
    "Constructing the observables vector $\\mathbf{d_{true}} $ (where $\\mathbf{d_{true}} = \\mathbf{G}\\mathbf{m} $)\n"
   ]
  },
  {
   "cell_type": "code",
   "execution_count": 209,
   "metadata": {},
   "outputs": [],
   "source": [
    "# Calculate the true data d vector \n",
    "\n",
    "d_true = np.dot(G, m_true)"
   ]
  },
  {
   "cell_type": "code",
   "execution_count": null,
   "metadata": {},
   "outputs": [],
   "source": [
    "# Plot the time-arrival result for each earthqueake\n",
    "\n",
    "fig, (ax1, ax2) = plt.subplots(1, 2, figsize=(9, 2), sharey=True)\n",
    "\n",
    "ax1.plot(np.arange(1, 11), d_true[:10], 'o')\n",
    "ax2.plot(np.arange(1, 11), d_true[10:], 'o')\n",
    "\n",
    "ax1.set(xlabel=\"station\", ylabel=\"time arrival [s]\", title=\"Earthquake 1\")\n",
    "ax2.set(xlabel=\"station\", title=\"Earthquake 2\");"
   ]
  },
  {
   "cell_type": "code",
   "execution_count": null,
   "metadata": {},
   "outputs": [],
   "source": [
    "# Plot the time-arrival result for each earthquake on a profile\n",
    "\n",
    "fig, (ax1, ax2) = plt.subplots(1, 2, figsize=(9, 4), sharey=True)\n",
    "\n",
    "# Earthquake 1\n",
    "ax1.imshow(vel_grid, extent=(0, 13, 11, 0), alpha=0.3, cmap=\"Greys\")\n",
    "plot_path_arrows(ax1, range=[0, 9])\n",
    "cmap, norm = plot_stations(ax1, values=d_true[:10])\n",
    "ax1.set_title(\"Earthquake 1\", pad=20)\n",
    "set_figure(ax1) \n",
    "\n",
    "# Earthquake 2\n",
    "ax2.imshow(vel_grid, extent=(0, 13, 11, 0), alpha=0.3, cmap=\"Greys\")\n",
    "plot_path_arrows(ax2, range=[10, 19])\n",
    "plot_stations(ax2, values=d_true[10:])\n",
    "add_colorbar(fig, ax2, label=\"time arrival anomaly [s/m]\", cmap_norm=[cmap, norm])\n",
    "ax2.set_title(\"Earthquake 2\", pad=20)\n",
    "set_figure(ax2) "
   ]
  },
  {
   "cell_type": "markdown",
   "metadata": {},
   "source": [
    "## The Inverse Problem <a  class=\"anchor\" id=\"inverse-problem\"></a>"
   ]
  },
  {
   "cell_type": "markdown",
   "metadata": {},
   "source": [
    "We define $\\mathbf{d_{obs}}$ by adding noise (n) to the \"true\" data observed.\n",
    "$$d_{obs} = d_{pure} + n $$\n",
    "\n",
    "This noise will be added according to a Gaussian distribution with standard deviation 0.001."
   ]
  },
  {
   "cell_type": "code",
   "execution_count": 212,
   "metadata": {},
   "outputs": [],
   "source": [
    "n_mean = 0.0    # Noise distribution parameters\n",
    "n_stg = 0.001\n",
    "\n",
    "n =  np.random.normal(loc=n_mean, scale=n_stg, size=len(d_true))   # Create random values according to a normal distribution to add to our data\n",
    "noise_norm = np.linalg.norm(n)\n",
    "\n",
    "d_obs = d_true + n"
   ]
  },
  {
   "cell_type": "markdown",
   "metadata": {},
   "source": [
    "#### Find a solution to the inverse problem\n",
    "\n",
    "The estimated solution ($\\mathbf{m}^{est}$) to this problem can be formulated with the *Tikhonov Regularization* method.\n",
    "\n",
    "$$\\boxed{ \\mathbf{m}^{est} = \\left[\\mathbf{G}^T \\mathbf{G} + \\epsilon^2 \\mathbf{I}\\right]^{-1} \\mathbf{G}^T \\mathbf{d}^{obs}  }$$\n",
    "\n",
    "This calculation can be handled with our custom function `lsqr_solution`. But we do need to find a suitable value for $\\epsilon$, which we can do so by passing a testing range of epsilons value to the custom function `find_optimal_epsilon`. This means, find an epsilon that *barely fits the data whithin the noise level*, in order to avoid overfitting.\n",
    "\n",
    "All what is left to do is find the model $\\mathbf{m}$ parameter values, based on the forward-constructed $\\mathbf{G}$ matrix, the noisy observed data $\\mathbf{d_{obs}}$, and the chosen epsilon value $\\mathbf{\\epsilon}$."
   ]
  },
  {
   "cell_type": "code",
   "execution_count": 213,
   "metadata": {},
   "outputs": [],
   "source": [
    "# Estimate optimal epsilon value\n",
    "\n",
    "epsilon_values = np.logspace(1, 4, 500)       # Create an ensemble of 500 potential epsilon values between 10^1 and 10^4\n",
    "epsilon = find_optimal_epsilon(G, d_obs, epsilon_values, noise_norm)"
   ]
  },
  {
   "cell_type": "code",
   "execution_count": 214,
   "metadata": {},
   "outputs": [],
   "source": [
    "m_est = lsqr_solution(G, d_obs, epsilon)"
   ]
  },
  {
   "cell_type": "markdown",
   "metadata": {},
   "source": [
    "### Results"
   ]
  },
  {
   "cell_type": "code",
   "execution_count": null,
   "metadata": {},
   "outputs": [],
   "source": [
    "# Plot all results together\n",
    "\n",
    "fig, (ax1, ax2, ax3) = plt.subplots(1, 3, figsize=(15, 4), gridspec_kw={\"wspace\": 0.6, \"width_ratios\": [1, 0.9, 1]})\n",
    "\n",
    "\n",
    "# Plot anomalous area\n",
    "ax1.imshow(s_anom_grid, extent=(0, 13, 11, 0))\n",
    "plot_path_arrows(ax1, color=\"grey\")\n",
    "ax1.set_title(\"True model parameters (m)\", pad=20)\n",
    "plot_stations(ax1)\n",
    "set_figure(ax1) \n",
    "\n",
    "\n",
    "# Plot the simulated data parameters\n",
    "ax2.plot(np.arange(1, 11), d_obs[10:], '^', alpha=0.7, label=\"Noisy\")\n",
    "ax2.plot(np.arange(1, 11), np.dot(G[10:], m_est), 's', alpha=0.7, label=\"Estimated\")\n",
    "ax2.set(xlabel=\"Seismograph number\", ylabel=\"Time arrival anomaly [s]\")\n",
    "ax2.set_title(\"Data (d) for the inverse problem\", pad=10)\n",
    "ax2.legend()\n",
    "\n",
    "\n",
    "# Plot the model parameters\n",
    "im = ax3.imshow(np.reshape(m_est, (11,13)), extent=(0, 13, 11, 0))\n",
    "add_colorbar(fig, ax3, \"slowness anomaly [s/m]\", image=im)\n",
    "ax3.set_title(\"Solution (m_est) for the inverse problem\", pad=20)\n",
    "set_figure(ax3)\n"
   ]
  },
  {
   "cell_type": "markdown",
   "metadata": {},
   "source": [
    "Try tweking some parameters and see how the results change. \n",
    "1. Try setting the original velocity grid to an anomalous rectangle of different size. For a small square try ` vel_grid[1:2, 8:9] = v_rect `. What would happen if the square was a little further down? Try ` vel_grid[4:5, 8:9] = v_rect `.\t\n",
    "\n",
    "\n",
    "2. Try changing the noise level to something more uncertain, e.g., by setting the standard deviation to 0.01 with `n_stg = 0.001`."
   ]
  },
  {
   "cell_type": "markdown",
   "metadata": {},
   "source": [
    "## Monte Carlo Simulation <a  class=\"anchor\" id=\"monte-carlo\"></a>"
   ]
  },
  {
   "cell_type": "markdown",
   "metadata": {},
   "source": [
    "Above we tested one simulation for one iteration of a noisy data. To test the full range of uncertainty in the data, we can perform a Monte Carlo exploration of the solution, by assigned a new random noise at each iteration of the loop."
   ]
  },
  {
   "cell_type": "code",
   "execution_count": 216,
   "metadata": {},
   "outputs": [],
   "source": [
    "n_simulations = 1000\n",
    "m_est_array = np.zeros((11*13, n_simulations))\n",
    "d_est_array = np.zeros((20, n_simulations))\n",
    "\n",
    "for i in range(n_simulations):\n",
    "    \n",
    "    # Add random noise to the data\n",
    "    n = np.random.normal(loc=n_mean, scale=n_stg, size=len(d_true))\n",
    "    d_obs = d_true + n\n",
    "    \n",
    "    # Store simulated data and model parameters\n",
    "    m_est_array[:, i] = lsqr_solution(G, d_obs, epsilon)   # No need to re-estimate epsilon\n",
    "    d_est_array[:, i] = np.dot(G, m_est_array[:, i])"
   ]
  },
  {
   "cell_type": "code",
   "execution_count": 217,
   "metadata": {},
   "outputs": [],
   "source": [
    "# Retrieve the mean for the simulated data and model parameters to plot\n",
    "\n",
    "d_est_mean = [np.mean(d_est_array[i, :]) for i in range(20)]\n",
    "d_est_std = [np.std(d_est_array[i, :]) for i in range(20)]\n",
    "m_est_mean = [np.mean(m_est_array[i, :]) for i in range(143)]"
   ]
  },
  {
   "cell_type": "markdown",
   "metadata": {},
   "source": [
    "### Results Summary"
   ]
  },
  {
   "cell_type": "code",
   "execution_count": null,
   "metadata": {},
   "outputs": [],
   "source": [
    "# Plot all results together\n",
    "\n",
    "fig, (ax1, ax2, ax3) = plt.subplots(1, 3, figsize=(15, 4), gridspec_kw={\"wspace\": 0.6, \"width_ratios\": [1, 0.9, 1]})\n",
    "\n",
    "\n",
    "# Plot anomalous area\n",
    "ax1.imshow(s_anom_grid, extent=(0, 13, 11, 0))     \n",
    "plot_path_arrows(ax1, color=\"grey\")\n",
    "ax1.set_title(\"True model parameters (m)\", pad=15)\n",
    "plot_stations(ax1)\n",
    "set_figure(ax1) \n",
    "\n",
    "\n",
    "# Plot the simulated data parameters\n",
    "ax2.plot(np.arange(1, 11), d_true[10:], 'o', label=\"True\")\n",
    "ax2.errorbar(np.arange(1, 11), d_est_mean[10:], yerr=d_est_std[10:], capsize=2, fmt=\"^\", elinewidth=0.5, label=\"Estimated\")\n",
    "ax2.set(xlabel=\"Seismograph number\", ylabel=\"Time arrival anomaly [s]\")\n",
    "ax2.set_title(\"Data (d) for the inverse problem\", pad=20)\n",
    "ax2.legend()\n",
    "\n",
    "\n",
    "# Plot the model parameters\n",
    "im = ax3.imshow(np.reshape(m_est_mean, (11,13)), extent=(0, 13, 11, 0))\n",
    "add_colorbar(fig, ax3, \"slowness anomaly [s/m]\", image=im)\n",
    "ax3.set_title(\"Solution (m_est) for the inverse problem\", pad=20)\n",
    "set_figure(ax3)"
   ]
  }
 ],
 "metadata": {
  "kernelspec": {
   "display_name": "base",
   "language": "python",
   "name": "python3"
  },
  "language_info": {
   "codemirror_mode": {
    "name": "ipython",
    "version": 3
   },
   "file_extension": ".py",
   "mimetype": "text/x-python",
   "name": "python",
   "nbconvert_exporter": "python",
   "pygments_lexer": "ipython3",
   "version": "3.8.8"
  },
  "orig_nbformat": 4
 },
 "nbformat": 4,
 "nbformat_minor": 2
}
