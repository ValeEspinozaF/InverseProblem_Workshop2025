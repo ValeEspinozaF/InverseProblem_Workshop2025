{
 "cells": [
  {
   "cell_type": "code",
   "execution_count": null,
   "metadata": {},
   "outputs": [],
   "source": [
    "# These are the public packages we will use for exercises 1, 2 and 3\n",
    "\n",
    "import numpy\n",
    "import pandas\n",
    "import seaborn\n",
    "import matplotlib.pyplot\n",
    "import scipy.stats\n",
    "\n",
    "print(\"All public packages imported successfully\")"
   ]
  },
  {
   "cell_type": "code",
   "execution_count": null,
   "metadata": {},
   "outputs": [],
   "source": [
    "# Make sure you have proper access to the dependencies/data folders\n",
    "\n",
    "import DEPENDENCIES.e2_dependencies \n",
    "import DEPENDENCIES.e3_dependencies \n",
    "\n",
    "data = numpy.loadtxt(\"DATA/gravdata.txt\")\n",
    "\n",
    "print(\"All dependencies/data imported successfully\")"
   ]
  }
 ],
 "metadata": {
  "kernelspec": {
   "display_name": "base",
   "language": "python",
   "name": "python3"
  },
  "language_info": {
   "codemirror_mode": {
    "name": "ipython",
    "version": 3
   },
   "file_extension": ".py",
   "mimetype": "text/x-python",
   "name": "python",
   "nbconvert_exporter": "python",
   "pygments_lexer": "ipython3",
   "version": "3.8.8"
  }
 },
 "nbformat": 4,
 "nbformat_minor": 2
}
